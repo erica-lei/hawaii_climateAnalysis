{
 "cells": [
  {
   "cell_type": "markdown",
   "metadata": {},
   "source": [
    "# Climate Analysis and Exploration"
   ]
  },
  {
   "cell_type": "code",
   "execution_count": 1,
   "metadata": {
    "collapsed": true
   },
   "outputs": [],
   "source": [
    "#import dependencies\n",
    "import pandas as pd\n",
    "import numpy as np\n",
    "\n",
    "from sqlalchemy import create_engine\n",
    "from sqlalchemy.ext.declarative import declarative_base\n",
    "Base = declarative_base()\n",
    "\n",
    "from sqlalchemy.orm import Session\n",
    "from sqlalchemy import Column, Float, Integer, String\n",
    "from sqlalchemy.ext.automap import automap_base"
   ]
  },
  {
   "cell_type": "code",
   "execution_count": 2,
   "metadata": {
    "collapsed": true
   },
   "outputs": [],
   "source": [
    "engine = create_engine('sqlite:///hawaii.sqlite') #to connect to my DB\n",
    "session = Session(bind = engine)"
   ]
  },
  {
   "cell_type": "code",
   "execution_count": 3,
   "metadata": {},
   "outputs": [
    {
     "data": {
      "text/plain": [
       "['Measurement', 'measurements', 'stations']"
      ]
     },
     "execution_count": 3,
     "metadata": {},
     "output_type": "execute_result"
    }
   ],
   "source": [
    "Base = automap_base()\n",
    "Base.prepare(engine, reflect = True)\n",
    "Base.classes.keys()"
   ]
  },
  {
   "cell_type": "code",
   "execution_count": 4,
   "metadata": {
    "collapsed": true
   },
   "outputs": [],
   "source": [
    "session = Session(engine) #to prepare to query something"
   ]
  },
  {
   "cell_type": "code",
   "execution_count": 5,
   "metadata": {
    "collapsed": true
   },
   "outputs": [],
   "source": [
    "Stations = Base.classes.stations\n",
    "Measurement = Base.classes.Measurement"
   ]
  },
  {
   "cell_type": "code",
   "execution_count": 6,
   "metadata": {},
   "outputs": [
    {
     "data": {
      "text/plain": [
       "mappingproxy({'__doc__': None,\n",
       "              '__init__': <function __init__>,\n",
       "              '__mapper__': <Mapper at 0x109520e10; stations>,\n",
       "              '__module__': 'sqlalchemy.ext.automap',\n",
       "              '__table__': Table('stations', MetaData(bind=None), Column('id', INTEGER(), table=<stations>, primary_key=True, nullable=False), Column('station', VARCHAR(length=200), table=<stations>), Column('name', VARCHAR(length=200), table=<stations>), Column('latitude', FLOAT(), table=<stations>), Column('longitude', FLOAT(), table=<stations>), Column('elevation', FLOAT(), table=<stations>), schema=None),\n",
       "              '_sa_class_manager': <ClassManager of <class 'sqlalchemy.ext.automap.stations'> at 1094fc990>,\n",
       "              'elevation': <sqlalchemy.orm.attributes.InstrumentedAttribute at 0x1094fce08>,\n",
       "              'id': <sqlalchemy.orm.attributes.InstrumentedAttribute at 0x1094fca98>,\n",
       "              'latitude': <sqlalchemy.orm.attributes.InstrumentedAttribute at 0x1094fcca8>,\n",
       "              'longitude': <sqlalchemy.orm.attributes.InstrumentedAttribute at 0x1094fcd58>,\n",
       "              'name': <sqlalchemy.orm.attributes.InstrumentedAttribute at 0x1094fcbf8>,\n",
       "              'station': <sqlalchemy.orm.attributes.InstrumentedAttribute at 0x1094fcb48>})"
      ]
     },
     "execution_count": 6,
     "metadata": {},
     "output_type": "execute_result"
    }
   ],
   "source": [
    "Measurement.__dict__\n",
    "Stations.__dict__"
   ]
  },
  {
   "cell_type": "code",
   "execution_count": 7,
   "metadata": {},
   "outputs": [
    {
     "data": {
      "text/plain": [
       "{'_sa_instance_state': <sqlalchemy.orm.state.InstanceState at 0x109554e80>,\n",
       " 'date': '2010-01-01',\n",
       " 'id': 1,\n",
       " 'prcp': 0.08,\n",
       " 'station': 'USC00519397',\n",
       " 'tobs': 65}"
      ]
     },
     "execution_count": 7,
     "metadata": {},
     "output_type": "execute_result"
    }
   ],
   "source": [
    "first_row = session.query(Measurement).first()\n",
    "first_row.__dict__"
   ]
  },
  {
   "cell_type": "code",
   "execution_count": 8,
   "metadata": {},
   "outputs": [
    {
     "data": {
      "text/plain": [
       "16370"
      ]
     },
     "execution_count": 8,
     "metadata": {},
     "output_type": "execute_result"
    }
   ],
   "source": [
    "session.query(Measurement).filter_by(prcp=0.00).count()"
   ]
  },
  {
   "cell_type": "markdown",
   "metadata": {},
   "source": [
    "## Precipitation Analysis"
   ]
  },
  {
   "cell_type": "code",
   "execution_count": 9,
   "metadata": {
    "collapsed": true,
    "scrolled": true
   },
   "outputs": [],
   "source": [
    "# print and append all the dates and prcp values into the database\n",
    "\n",
    "mydates =[]\n",
    "myprcp = []\n",
    "measurement_data = session.query(Measurement).filter(\n",
    "    Measurement.date >= '2016-08-23').all()\n",
    "for data in measurement_data:\n",
    "    #print(dates.date)\n",
    "    #print(data.prcp)\n",
    "    mydates.append(data.date)\n",
    "    myprcp.append(data.prcp)\n",
    "    \n",
    "    \n",
    "#newdf = pd.DataFrame(data=prcpanalyze)"
   ]
  },
  {
   "cell_type": "code",
   "execution_count": 10,
   "metadata": {
    "collapsed": true
   },
   "outputs": [],
   "source": [
    "prcp_date_df = pd.DataFrame({\n",
    "    \"dates\":mydates,\n",
    "    \"myprcp\":myprcp\n",
    "    \n",
    "})\n",
    "prcp_date_df.head()\n",
    "\n",
    "prcp = prcp_date_df[\"myprcp\"]\n",
    "dates = prcp_date_df[\"dates\"]"
   ]
  },
  {
   "cell_type": "code",
   "execution_count": 11,
   "metadata": {},
   "outputs": [
    {
     "data": {
      "text/html": [
       "<div>\n",
       "<style>\n",
       "    .dataframe thead tr:only-child th {\n",
       "        text-align: right;\n",
       "    }\n",
       "\n",
       "    .dataframe thead th {\n",
       "        text-align: left;\n",
       "    }\n",
       "\n",
       "    .dataframe tbody tr th {\n",
       "        vertical-align: top;\n",
       "    }\n",
       "</style>\n",
       "<table border=\"1\" class=\"dataframe\">\n",
       "  <thead>\n",
       "    <tr style=\"text-align: right;\">\n",
       "      <th></th>\n",
       "      <th>Average Prcp</th>\n",
       "      <th>Max Prcp</th>\n",
       "      <th>Min Prcp</th>\n",
       "    </tr>\n",
       "  </thead>\n",
       "  <tbody>\n",
       "    <tr>\n",
       "      <th>0</th>\n",
       "      <td>0.177279</td>\n",
       "      <td>6.7</td>\n",
       "      <td>0.0</td>\n",
       "    </tr>\n",
       "  </tbody>\n",
       "</table>\n",
       "</div>"
      ],
      "text/plain": [
       "   Average Prcp  Max Prcp  Min Prcp\n",
       "0      0.177279       6.7       0.0"
      ]
     },
     "execution_count": 11,
     "metadata": {},
     "output_type": "execute_result"
    }
   ],
   "source": [
    "sumary_stats = pd.DataFrame({ \"Average Prcp\":[prcp_date_df[\"myprcp\"].mean()],\n",
    "              \"Max Prcp\":[prcp_date_df[\"myprcp\"].max()],\n",
    "              \"Min Prcp\":[prcp_date_df[\"myprcp\"].min()]\n",
    "}) \n",
    "\n",
    "sumary_stats"
   ]
  },
  {
   "cell_type": "code",
   "execution_count": 12,
   "metadata": {},
   "outputs": [
    {
     "data": {
      "text/html": [
       "<div>\n",
       "<style>\n",
       "    .dataframe thead tr:only-child th {\n",
       "        text-align: right;\n",
       "    }\n",
       "\n",
       "    .dataframe thead th {\n",
       "        text-align: left;\n",
       "    }\n",
       "\n",
       "    .dataframe tbody tr th {\n",
       "        vertical-align: top;\n",
       "    }\n",
       "</style>\n",
       "<table border=\"1\" class=\"dataframe\">\n",
       "  <thead>\n",
       "    <tr style=\"text-align: right;\">\n",
       "      <th></th>\n",
       "      <th>myprcp</th>\n",
       "    </tr>\n",
       "  </thead>\n",
       "  <tbody>\n",
       "    <tr>\n",
       "      <th>count</th>\n",
       "      <td>4042.000000</td>\n",
       "    </tr>\n",
       "    <tr>\n",
       "      <th>mean</th>\n",
       "      <td>0.177279</td>\n",
       "    </tr>\n",
       "    <tr>\n",
       "      <th>std</th>\n",
       "      <td>0.461132</td>\n",
       "    </tr>\n",
       "    <tr>\n",
       "      <th>min</th>\n",
       "      <td>0.000000</td>\n",
       "    </tr>\n",
       "    <tr>\n",
       "      <th>25%</th>\n",
       "      <td>0.000000</td>\n",
       "    </tr>\n",
       "    <tr>\n",
       "      <th>50%</th>\n",
       "      <td>0.020000</td>\n",
       "    </tr>\n",
       "    <tr>\n",
       "      <th>75%</th>\n",
       "      <td>0.130000</td>\n",
       "    </tr>\n",
       "    <tr>\n",
       "      <th>max</th>\n",
       "      <td>6.700000</td>\n",
       "    </tr>\n",
       "  </tbody>\n",
       "</table>\n",
       "</div>"
      ],
      "text/plain": [
       "            myprcp\n",
       "count  4042.000000\n",
       "mean      0.177279\n",
       "std       0.461132\n",
       "min       0.000000\n",
       "25%       0.000000\n",
       "50%       0.020000\n",
       "75%       0.130000\n",
       "max       6.700000"
      ]
     },
     "execution_count": 12,
     "metadata": {},
     "output_type": "execute_result"
    }
   ],
   "source": [
    "prcp_date_df.describe()"
   ]
  },
  {
   "cell_type": "code",
   "execution_count": 13,
   "metadata": {},
   "outputs": [
    {
     "data": {
      "text/plain": [
       "<matplotlib.text.Text at 0x1a154d6358>"
      ]
     },
     "execution_count": 13,
     "metadata": {},
     "output_type": "execute_result"
    }
   ],
   "source": [
    "\n",
    "import matplotlib.pyplot as plt\n",
    "import seaborn as sns\n",
    "import numpy as np\n",
    "\n",
    "\n",
    "sns.barplot(x=dates,y=myprcp,data=prcp_date_df, palette=\"viridis\")\n",
    "plt.xticks([])\n",
    "plt.xlabel(\"Dates\", size=15)\n",
    "plt.ylabel(\"Precipitation\", size=15)\n",
    "plt.title(\"Precipitation Levels in Hawaii Across Time\")"
   ]
  },
  {
   "cell_type": "markdown",
   "metadata": {},
   "source": [
    "## Station Analysis"
   ]
  },
  {
   "cell_type": "code",
   "execution_count": 14,
   "metadata": {},
   "outputs": [
    {
     "data": {
      "text/plain": [
       "9"
      ]
     },
     "execution_count": 14,
     "metadata": {},
     "output_type": "execute_result"
    }
   ],
   "source": [
    "myStations = []\n",
    "measurement_data1 = session.query(Measurement.station).group_by(Measurement.station).count()\n",
    "measurement_data1"
   ]
  },
  {
   "cell_type": "code",
   "execution_count": 15,
   "metadata": {},
   "outputs": [
    {
     "data": {
      "text/plain": [
       "3874"
      ]
     },
     "execution_count": 15,
     "metadata": {},
     "output_type": "execute_result"
    }
   ],
   "source": [
    "session.query(Measurement).filter(Measurement.station ==\"USC00514830\").count()"
   ]
  },
  {
   "cell_type": "code",
   "execution_count": 16,
   "metadata": {},
   "outputs": [
    {
     "data": {
      "text/plain": [
       "[('USC00519281', 5544),\n",
       " ('USC00513117', 5392),\n",
       " ('USC00519397', 5370),\n",
       " ('USC00519523', 5144),\n",
       " ('USC00516128', 4968),\n",
       " ('USC00514830', 3874),\n",
       " ('USC00511918', 3864),\n",
       " ('USC00517948', 1366),\n",
       " ('USC00518838', 684)]"
      ]
     },
     "execution_count": 16,
     "metadata": {},
     "output_type": "execute_result"
    }
   ],
   "source": [
    "from sqlalchemy import func\n",
    "\n",
    "station_count = session.query(Measurement.station, func.count(\n",
    "    Measurement.station)).group_by(Measurement.station).order_by(\n",
    "    func.count(Measurement.station).desc()).all()\n",
    "station_count\n"
   ]
  },
  {
   "cell_type": "code",
   "execution_count": 34,
   "metadata": {},
   "outputs": [
    {
     "name": "stdout",
     "output_type": "stream",
     "text": [
      "USC00519281 has the higher numbers of observations.\n"
     ]
    }
   ],
   "source": [
    "station_count_df = pd.DataFrame({ \"Station\": [\"USC00519281\",\"USC00513117\",\"USC00519397\",\"USC00519523\",\"USC00516128\",\n",
    "                           \"USC00514830\",\"USC00511918\",\"USC00517948\",\"USC00518838\"],\n",
    "              \"Count\":[5544,5392,5370,5144,4968,3874,3864,1366,684] \n",
    "})\n",
    "\n",
    "station_count_df\n",
    "\n",
    "print(\"USC00519281 has the higher numbers of observations.\")"
   ]
  },
  {
   "cell_type": "code",
   "execution_count": 18,
   "metadata": {
    "collapsed": true
   },
   "outputs": [],
   "source": [
    "#retrive the last 12 months of temperature observation data (tobs) and filtered by the most popular station\n",
    "mytobs=[]\n",
    "newdates=[]\n",
    "tob_query = session.query(Measurement).filter(Measurement.date >= '2016-08-23').filter(\n",
    "    Measurement.station == 'USC00519281').all()\n",
    "for data in tob_query:\n",
    "    #print(data.tobs)\n",
    "    newdates.append(data.date)\n",
    "    mytobs.append(data.tobs)"
   ]
  },
  {
   "cell_type": "code",
   "execution_count": 19,
   "metadata": {},
   "outputs": [
    {
     "data": {
      "text/html": [
       "<div>\n",
       "<style>\n",
       "    .dataframe thead tr:only-child th {\n",
       "        text-align: right;\n",
       "    }\n",
       "\n",
       "    .dataframe thead th {\n",
       "        text-align: left;\n",
       "    }\n",
       "\n",
       "    .dataframe tbody tr th {\n",
       "        vertical-align: top;\n",
       "    }\n",
       "</style>\n",
       "<table border=\"1\" class=\"dataframe\">\n",
       "  <thead>\n",
       "    <tr style=\"text-align: right;\">\n",
       "      <th></th>\n",
       "      <th>Date</th>\n",
       "      <th>Tobs</th>\n",
       "    </tr>\n",
       "  </thead>\n",
       "  <tbody>\n",
       "    <tr>\n",
       "      <th>0</th>\n",
       "      <td>2016-08-23</td>\n",
       "      <td>77</td>\n",
       "    </tr>\n",
       "    <tr>\n",
       "      <th>1</th>\n",
       "      <td>2016-08-24</td>\n",
       "      <td>77</td>\n",
       "    </tr>\n",
       "    <tr>\n",
       "      <th>2</th>\n",
       "      <td>2016-08-25</td>\n",
       "      <td>80</td>\n",
       "    </tr>\n",
       "    <tr>\n",
       "      <th>3</th>\n",
       "      <td>2016-08-26</td>\n",
       "      <td>80</td>\n",
       "    </tr>\n",
       "    <tr>\n",
       "      <th>4</th>\n",
       "      <td>2016-08-27</td>\n",
       "      <td>75</td>\n",
       "    </tr>\n",
       "  </tbody>\n",
       "</table>\n",
       "</div>"
      ],
      "text/plain": [
       "         Date  Tobs\n",
       "0  2016-08-23    77\n",
       "1  2016-08-24    77\n",
       "2  2016-08-25    80\n",
       "3  2016-08-26    80\n",
       "4  2016-08-27    75"
      ]
     },
     "execution_count": 19,
     "metadata": {},
     "output_type": "execute_result"
    }
   ],
   "source": [
    "tobs_df = pd.DataFrame({\n",
    "    'Date':newdates,\n",
    "    'Tobs':mytobs\n",
    "})\n",
    "\n",
    "tobs_df.head()\n"
   ]
  },
  {
   "cell_type": "code",
   "execution_count": 20,
   "metadata": {
    "collapsed": true
   },
   "outputs": [],
   "source": [
    "tobs_x = tobs_df[\"Tobs\"]"
   ]
  },
  {
   "cell_type": "code",
   "execution_count": 21,
   "metadata": {},
   "outputs": [
    {
     "data": {
      "text/plain": [
       "<matplotlib.text.Text at 0x1a16364588>"
      ]
     },
     "execution_count": 21,
     "metadata": {},
     "output_type": "execute_result"
    },
    {
     "data": {
      "image/png": "[encoded data removed]",
      "text/plain": [
       "<matplotlib.figure.Figure at 0x109cadf28>"
      ]
     },
     "metadata": {},
     "output_type": "display_data"
    }
   ],
   "source": [
    "import matplotlib.pyplot as plt\n",
    "x = pd.Series(tobs_x,name=\"Temperature\")\n",
    "ax = sns.distplot(x, color='red',bins=12)\n",
    "plt.title(\"Temperature Across 8/23/16 - 8/23/17\")\n",
    "plt.ylabel(\"Frequency\")"
   ]
  },
  {
   "cell_type": "markdown",
   "metadata": {},
   "source": [
    "## Temperature Analysis"
   ]
  },
  {
   "cell_type": "code",
   "execution_count": 22,
   "metadata": {
    "collapsed": true
   },
   "outputs": [],
   "source": [
    "import datetime as dt\n",
    "\n",
    "def calc_temps(start_date,end_date):\n",
    "    temps=[]\n",
    "    temp_query = session.query(func.max(\n",
    "        Measurement.tobs),func.min(Measurement.tobs), func.avg(Measurement.tobs)).filter(\n",
    "        Measurement.date.between(start_date, end_date)).all()\n",
    "    return temp_query\n",
    "\n",
    " \n",
    "    "
   ]
  },
  {
   "cell_type": "code",
   "execution_count": 23,
   "metadata": {},
   "outputs": [
    {
     "data": {
      "text/plain": [
       "[(83, 72, 78.57352941176471)]"
      ]
     },
     "execution_count": 23,
     "metadata": {},
     "output_type": "execute_result"
    }
   ],
   "source": [
    "vacay_dates = calc_temps(\"2017-07-15\",\"2017-07-25\")\n",
    "vacay_dates"
   ]
  },
  {
   "cell_type": "code",
   "execution_count": 24,
   "metadata": {
    "collapsed": true
   },
   "outputs": [],
   "source": [
    "max_temp = [data[0] for data in vacay_dates]\n",
    "min_temp = [data[1] for data in vacay_dates]\n",
    "avg_temp = [data[2] for data in vacay_dates]"
   ]
  },
  {
   "cell_type": "code",
   "execution_count": 25,
   "metadata": {},
   "outputs": [
    {
     "data": {
      "text/html": [
       "<div>\n",
       "<style>\n",
       "    .dataframe thead tr:only-child th {\n",
       "        text-align: right;\n",
       "    }\n",
       "\n",
       "    .dataframe thead th {\n",
       "        text-align: left;\n",
       "    }\n",
       "\n",
       "    .dataframe tbody tr th {\n",
       "        vertical-align: top;\n",
       "    }\n",
       "</style>\n",
       "<table border=\"1\" class=\"dataframe\">\n",
       "  <thead>\n",
       "    <tr style=\"text-align: right;\">\n",
       "      <th></th>\n",
       "      <th>Avg Temp</th>\n",
       "      <th>Max Temp</th>\n",
       "      <th>Min Temp</th>\n",
       "    </tr>\n",
       "  </thead>\n",
       "  <tbody>\n",
       "    <tr>\n",
       "      <th>0</th>\n",
       "      <td>78.573529</td>\n",
       "      <td>83</td>\n",
       "      <td>72</td>\n",
       "    </tr>\n",
       "  </tbody>\n",
       "</table>\n",
       "</div>"
      ],
      "text/plain": [
       "    Avg Temp  Max Temp  Min Temp\n",
       "0  78.573529        83        72"
      ]
     },
     "execution_count": 25,
     "metadata": {},
     "output_type": "execute_result"
    }
   ],
   "source": [
    "hawaii_vacations = pd.DataFrame({\n",
    "    \"Max Temp\": max_temp,\n",
    "    \"Min Temp\":min_temp,\n",
    "    \"Avg Temp\":avg_temp\n",
    "    \n",
    "})\n",
    "hawaii_vacations"
   ]
  },
  {
   "cell_type": "code",
   "execution_count": 26,
   "metadata": {},
   "outputs": [
    {
     "data": {
      "image/png": "[encoded data removed]",
      "text/plain": [
       "<matplotlib.figure.Figure at 0x1a16cd5b70>"
      ]
     },
     "metadata": {},
     "output_type": "display_data"
    }
   ],
   "source": [
    "width = 1.5\n",
    "#set x ticks\n",
    "\n",
    "y_axis = [0, 0 , hawaii_vacations[\"Avg Temp\"][0], 0 , 0]\n",
    "fig, ax = plt.subplots()\n",
    "\n",
    "x_axis = np.arange(5)\n",
    "ax.set_xticks(x_axis + width / 17)\n",
    "\n",
    "rects1 = ax.bar(x_axis,\n",
    "                y_axis, color='skyblue', width = width)\n",
    "ax.set_xticklabels((\"\",\"\",round(hawaii_vacations[\"Avg Temp\"][0],3),\"\",\"\",\"\"))\n",
    "\n",
    "plt.ylim(0,100,20)\n",
    "plt.title(\"Trip Average Temperature\", size=18)\n",
    "plt.grid(color=\"lightgray\")\n",
    "\n"
   ]
  },
  {
   "cell_type": "code",
   "execution_count": 27,
   "metadata": {},
   "outputs": [
    {
     "data": {
      "text/plain": [
       "78.57352941176471"
      ]
     },
     "execution_count": 27,
     "metadata": {},
     "output_type": "execute_result"
    }
   ],
   "source": [
    "hawaii_vacations[\"Avg Temp\"][0]"
   ]
  },
  {
   "cell_type": "markdown",
   "metadata": {
    "collapsed": true
   },
   "source": [
    "## Climate App\n"
   ]
  },
  {
   "cell_type": "code",
   "execution_count": 28,
   "metadata": {
    "collapsed": true
   },
   "outputs": [],
   "source": [
    "from flask import Flask, jsonify\n",
    "\n",
    "app = Flask(__name__)\n",
    "\n",
    "@app.route(\"/api/v1.0/precipitation\")\n",
    "def precipitation():\n",
    "    all_results=[]\n",
    "    #Query all Measurement\n",
    "    results = session.query(Measurement).filter(Measurement.date >= '2017-04-04').all()   \n",
    "    #Create a dictionary from the row data and append to list    \n",
    "    for data in results:\n",
    "        results_dict={}\n",
    "        results_dict[\"date\"] = data.date\n",
    "        results_dict[\"tobs\"] = data.tobs\n",
    "        all_results.append(results_dict)  \n",
    "    return jsonify(all_results)\n"
   ]
  },
  {
   "cell_type": "code",
   "execution_count": 29,
   "metadata": {
    "collapsed": true
   },
   "outputs": [],
   "source": [
    "@app.route(\"/api/v1.0/stations\")\n",
    "def station():\n",
    "    station = session.query(Measurement.station).group_by(Measurement.station).all()\n",
    "   #station= session.query(Stations.station).all()\n",
    "    hawaii_stations = list(np.ravel(station))   \n",
    "    return jsonify(hawaii_stations)\n",
    "\n"
   ]
  },
  {
   "cell_type": "code",
   "execution_count": 30,
   "metadata": {
    "collapsed": true
   },
   "outputs": [],
   "source": [
    "@app.route(\"/api/v1.0/tobs\")\n",
    "def temperature():\n",
    "    tob_query = session.query(Measurement.date, Measurement.tobs).filter(Measurement.date >= '2017-04-04').all()\n",
    "    #use np.ravel to combine the tobs\n",
    "    tobs_results = list(np.ravel(tob_query))\n",
    "    return jsonify(tobs_results)"
   ]
  },
  {
   "cell_type": "code",
   "execution_count": 31,
   "metadata": {
    "collapsed": true
   },
   "outputs": [],
   "source": [
    "@app.route(\"/api/v1.0/2017-07-11\")\n",
    "def start_temp():\n",
    "    results = session.query(func.min(Measurement.tobs),func.max(Measurement.tobs), func.avg(Measurement.tobs)).filter(Measurement.date >='2017-07-11').all()\n",
    "    start_date = list(np.ravel(results))\n",
    "    return jsonify(start_date)\n",
    "\n"
   ]
  },
  {
   "cell_type": "code",
   "execution_count": 32,
   "metadata": {
    "collapsed": true
   },
   "outputs": [],
   "source": [
    "@app.route(\"/api/v1.0/2017-07-01/2017-07-15\")\n",
    "def two_dates():\n",
    "    temp_query = session.query(func.min(Measurement.tobs),func.max(Measurement.tobs), func.avg(Measurement.tobs)).filter(Measurement.date.between(\"2017-07-01\", \"2017-07-07\")).all()   \n",
    "    temp_results = list(np.ravel(temp_query))\n",
    "    return jsonify(temp_results)"
   ]
  },
  {
   "cell_type": "code",
   "execution_count": 33,
   "metadata": {
    "scrolled": true
   },
   "outputs": [
    {
     "name": "stderr",
     "output_type": "stream",
     "text": [
      " * Running on http://127.0.0.1:5000/ (Press CTRL+C to quit)\n",
      " * Restarting with stat\n"
     ]
    },
    {
     "ename": "SystemExit",
     "evalue": "1",
     "output_type": "error",
     "traceback": [
      "An exception has occurred, use %tb to see the full traceback.\n",
      "\u001b[0;31mSystemExit\u001b[0m\u001b[0;31m:\u001b[0m 1\n"
     ]
    },
    {
     "name": "stderr",
     "output_type": "stream",
     "text": [
      "/Users/EricaLei/anaconda/envs/PythonData/lib/python3.6/site-packages/IPython/core/interactiveshell.py:2918: UserWarning: To exit: use 'exit', 'quit', or Ctrl-D.\n",
      "  warn(\"To exit: use 'exit', 'quit', or Ctrl-D.\", stacklevel=1)\n"
     ]
    }
   ],
   "source": [
    "if __name__ == \"__main__\":\n",
    "    app.run(debug=True)"
   ]
  },
  {
   "cell_type": "code",
   "execution_count": null,
   "metadata": {
    "collapsed": true
   },
   "outputs": [],
   "source": []
  }
 ],
 "metadata": {
  "kernelspec": {
   "display_name": "Python[PythonData]",
   "language": "python",
   "name": "pythondata"
  },
  "language_info": {
   "codemirror_mode": {
    "name": "ipython",
    "version": 3
   },
   "file_extension": ".py",
   "mimetype": "text/x-python",
   "name": "python",
   "nbconvert_exporter": "python",
   "pygments_lexer": "ipython3",
   "version": "3.6.5"
  }
 },
 "nbformat": 4,
 "nbformat_minor": 2
}
